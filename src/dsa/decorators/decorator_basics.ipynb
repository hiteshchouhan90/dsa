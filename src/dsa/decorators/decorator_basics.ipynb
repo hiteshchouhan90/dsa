{
 "cells": [
  {
   "cell_type": "code",
   "execution_count": 69,
   "metadata": {},
   "outputs": [],
   "source": [
    "#decorators\n",
    "#https://www.youtube.com/watch?v=FsAPt_9Bf3U&t=1118s\n",
    "def my_decorator(message):\n",
    "    def wrapper():\n",
    "        print(f\"inside the wrapper function {message}\")\n",
    "    return wrapper\n"
   ]
  },
  {
   "cell_type": "code",
   "execution_count": 70,
   "metadata": {},
   "outputs": [],
   "source": [
    "hi_func = my_decorator(\"Hi\")\n",
    "bye_func = my_decorator(\"Bye\")"
   ]
  },
  {
   "cell_type": "code",
   "execution_count": 71,
   "metadata": {},
   "outputs": [
    {
     "name": "stdout",
     "output_type": "stream",
     "text": [
      "inside the wrapper function Hi\n"
     ]
    }
   ],
   "source": [
    "hi_func()"
   ]
  },
  {
   "cell_type": "code",
   "execution_count": 78,
   "metadata": {},
   "outputs": [],
   "source": [
    "#Timer decorator with arguments\n",
    "from functools import wraps\n",
    "def my_timer(original_func):\n",
    "    import time\n",
    "    @wraps(original_func)\n",
    "    def wrapper(*args, **kwargs):\n",
    "        t1 = time.time()\n",
    "        result = original_func(*args, **kwargs)\n",
    "        t2 = time.time() - t1\n",
    "        print(f\"Time taken to run funtion {original_func.__name__} is {t2} \")\n",
    "        return result\n",
    "    return wrapper"
   ]
  },
  {
   "cell_type": "code",
   "execution_count": 79,
   "metadata": {},
   "outputs": [],
   "source": [
    "import time\n",
    "@my_timer\n",
    "def sum_numbers_upto(final_num : int):\n",
    "    time.sleep(2)\n",
    "    total = sum(range(1, final_num+1))\n",
    "    print(total)\n",
    "        "
   ]
  },
  {
   "cell_type": "code",
   "execution_count": 80,
   "metadata": {},
   "outputs": [
    {
     "name": "stdout",
     "output_type": "stream",
     "text": [
      "15\n",
      "Time taken to run funtion sum_numbers_upto is 2.0054562091827393 \n"
     ]
    }
   ],
   "source": [
    "sum_numbers_upto(5)"
   ]
  },
  {
   "cell_type": "code",
   "execution_count": null,
   "metadata": {},
   "outputs": [],
   "source": []
  }
 ],
 "metadata": {
  "kernelspec": {
   "display_name": "Python 3",
   "language": "python",
   "name": "python3"
  },
  "language_info": {
   "codemirror_mode": {
    "name": "ipython",
    "version": 3
   },
   "file_extension": ".py",
   "mimetype": "text/x-python",
   "name": "python",
   "nbconvert_exporter": "python",
   "pygments_lexer": "ipython3",
   "version": "3.11.3"
  }
 },
 "nbformat": 4,
 "nbformat_minor": 2
}
