{
 "cells": [
  {
   "cell_type": "code",
   "execution_count": 16,
   "metadata": {},
   "outputs": [],
   "source": [
    "from pydantic import BaseModel, ValidationError\n",
    "from typing import List\n",
    "\n",
    "# Define the Pydantic model\n",
    "class User(BaseModel):\n",
    "    name: str\n",
    "    age: int\n",
    "    email: str\n",
    "\n",
    "# Example JSON input\n",
    "input_data = {\n",
    "    \"name\": \"Alice\",\n",
    "    \"age\": \"30\",\n",
    "    \"email\": \"alice@example.com\"\n",
    "}\n",
    "\n",
    "def test(user_data: User):\n",
    "    print(user_data.get('age'))\n",
    "    print(type(user_data))\n",
    "    print(\"I am hitesh\")\n",
    "\n",
    "test(input_data)"
   ]
  },
  {
   "cell_type": "code",
   "execution_count": 17,
   "metadata": {},
   "outputs": [],
   "source": [
    "def test(user_data: User):\n",
    "    print(user_data.get('age'))\n",
    "    print(type(user_data))\n",
    "    print(\"I am hitesh\")"
   ]
  },
  {
   "cell_type": "code",
   "execution_count": 18,
   "metadata": {},
   "outputs": [
    {
     "name": "stdout",
     "output_type": "stream",
     "text": [
      "30\n",
      "<class 'dict'>\n",
      "I am hitesh\n"
     ]
    }
   ],
   "source": [
    "test(input_data)"
   ]
  },
  {
   "cell_type": "code",
   "execution_count": null,
   "metadata": {},
   "outputs": [],
   "source": [
    "\n",
    "# Parse and validate the input\n",
    "try:\n",
    "    user = User(**input_data)\n",
    "    print(user)  # Access validated data\n",
    "except ValidationError as e:\n",
    "    print(\"Validation error:\", e)"
   ]
  },
  {
   "cell_type": "code",
   "execution_count": null,
   "metadata": {},
   "outputs": [],
   "source": []
  }
 ],
 "metadata": {
  "kernelspec": {
   "display_name": "Python 3",
   "language": "python",
   "name": "python3"
  },
  "language_info": {
   "codemirror_mode": {
    "name": "ipython",
    "version": 3
   },
   "file_extension": ".py",
   "mimetype": "text/x-python",
   "name": "python",
   "nbconvert_exporter": "python",
   "pygments_lexer": "ipython3",
   "version": "3.11.3"
  }
 },
 "nbformat": 4,
 "nbformat_minor": 2
}
